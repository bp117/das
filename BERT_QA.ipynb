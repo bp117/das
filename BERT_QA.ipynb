{
 "cells": [
  {
   "cell_type": "code",
   "execution_count": 1,
   "id": "f6b4135b-229b-4b6d-8728-b79712c83920",
   "metadata": {},
   "outputs": [
    {
     "name": "stdout",
     "output_type": "stream",
     "text": [
      "Requirement already satisfied: transformers in c:\\users\\bindu\\miniconda3\\lib\\site-packages (4.33.1)\n",
      "Requirement already satisfied: torch in c:\\users\\bindu\\miniconda3\\lib\\site-packages (2.0.1)\n",
      "Requirement already satisfied: filelock in c:\\users\\bindu\\miniconda3\\lib\\site-packages (from transformers) (3.12.3)\n",
      "Requirement already satisfied: huggingface-hub<1.0,>=0.15.1 in c:\\users\\bindu\\miniconda3\\lib\\site-packages (from transformers) (0.16.4)\n",
      "Requirement already satisfied: numpy>=1.17 in c:\\users\\bindu\\miniconda3\\lib\\site-packages (from transformers) (1.25.2)\n",
      "Requirement already satisfied: packaging>=20.0 in c:\\users\\bindu\\miniconda3\\lib\\site-packages (from transformers) (23.0)\n",
      "Requirement already satisfied: pyyaml>=5.1 in c:\\users\\bindu\\miniconda3\\lib\\site-packages (from transformers) (6.0.1)\n",
      "Requirement already satisfied: regex!=2019.12.17 in c:\\users\\bindu\\miniconda3\\lib\\site-packages (from transformers) (2023.8.8)\n",
      "Requirement already satisfied: requests in c:\\users\\bindu\\miniconda3\\lib\\site-packages (from transformers) (2.29.0)\n",
      "Requirement already satisfied: tokenizers!=0.11.3,<0.14,>=0.11.1 in c:\\users\\bindu\\miniconda3\\lib\\site-packages (from transformers) (0.13.3)\n",
      "Requirement already satisfied: safetensors>=0.3.1 in c:\\users\\bindu\\miniconda3\\lib\\site-packages (from transformers) (0.3.3)\n",
      "Requirement already satisfied: tqdm>=4.27 in c:\\users\\bindu\\miniconda3\\lib\\site-packages (from transformers) (4.65.0)\n",
      "Requirement already satisfied: typing-extensions in c:\\users\\bindu\\miniconda3\\lib\\site-packages (from torch) (4.7.1)\n",
      "Requirement already satisfied: sympy in c:\\users\\bindu\\miniconda3\\lib\\site-packages (from torch) (1.12)\n",
      "Requirement already satisfied: networkx in c:\\users\\bindu\\miniconda3\\lib\\site-packages (from torch) (3.1)\n",
      "Requirement already satisfied: jinja2 in c:\\users\\bindu\\miniconda3\\lib\\site-packages (from torch) (3.1.2)\n",
      "Requirement already satisfied: fsspec in c:\\users\\bindu\\miniconda3\\lib\\site-packages (from huggingface-hub<1.0,>=0.15.1->transformers) (2023.9.0)\n",
      "Requirement already satisfied: colorama in c:\\users\\bindu\\miniconda3\\lib\\site-packages (from tqdm>=4.27->transformers) (0.4.6)\n",
      "Requirement already satisfied: MarkupSafe>=2.0 in c:\\users\\bindu\\miniconda3\\lib\\site-packages (from jinja2->torch) (2.1.3)\n",
      "Requirement already satisfied: charset-normalizer<4,>=2 in c:\\users\\bindu\\miniconda3\\lib\\site-packages (from requests->transformers) (2.0.4)\n",
      "Requirement already satisfied: idna<4,>=2.5 in c:\\users\\bindu\\miniconda3\\lib\\site-packages (from requests->transformers) (3.4)\n",
      "Requirement already satisfied: urllib3<1.27,>=1.21.1 in c:\\users\\bindu\\miniconda3\\lib\\site-packages (from requests->transformers) (1.26.16)\n",
      "Requirement already satisfied: certifi>=2017.4.17 in c:\\users\\bindu\\miniconda3\\lib\\site-packages (from requests->transformers) (2023.5.7)\n",
      "Requirement already satisfied: mpmath>=0.19 in c:\\users\\bindu\\miniconda3\\lib\\site-packages (from sympy->torch) (1.3.0)\n"
     ]
    }
   ],
   "source": [
    "!pip install transformers torch"
   ]
  },
  {
   "cell_type": "code",
   "execution_count": 7,
   "id": "2e4efab6-6fed-4aa4-bb19-8cc6b4006f3c",
   "metadata": {},
   "outputs": [],
   "source": [
    "import torch\n",
    "from transformers import BertTokenizer, BertModel\n",
    "\n",
    "tokenizer = BertTokenizer.from_pretrained(\"bert-base-uncased\")\n",
    "model = BertModel.from_pretrained(\"bert-base-uncased\")\n",
    "\n",
    "def encode(document):\n",
    "    # Split document into sentences or paragraphs\n",
    "    chunks = document.split(\" \")  # assuming paragraphs are separated by newline\n",
    "\n",
    "    embeddings = []\n",
    "\n",
    "    for chunk in chunks:\n",
    "        inputs = tokenizer(chunk, return_tensors=\"pt\", truncation=True, padding=True, max_length=512)\n",
    "        with torch.no_grad():\n",
    "            outputs = model(**inputs)\n",
    "        # Taking the average of all token embeddings as the representation of the chunk\n",
    "        embeddings.append(outputs.last_hidden_state.mean(dim=1).squeeze().numpy())\n",
    "    \n",
    "    return chunks, embeddings"
   ]
  },
  {
   "cell_type": "code",
   "execution_count": 2,
   "id": "a440ce88-60fb-44e7-825f-bf4100646630",
   "metadata": {},
   "outputs": [],
   "source": [
    "import numpy as np\n",
    "\n",
    "def save_embeddings(filename, embeddings):\n",
    "    embeddings = np.array(embeddings)\n",
    "    np.save(filename, embeddings)\n",
    "def load_embeddings(filename):\n",
    "    return np.load(filename, allow_pickle=True)"
   ]
  },
  {
   "cell_type": "code",
   "execution_count": 4,
   "id": "45e0f64e-38d7-4ab6-9aa0-426386cefa16",
   "metadata": {},
   "outputs": [
    {
     "name": "stdout",
     "output_type": "stream",
     "text": [
      "Note: you may need to restart the kernel to use updated packages.Collecting scikit-learn\n",
      "\n",
      "  Downloading scikit_learn-1.3.0-cp311-cp311-win_amd64.whl (9.2 MB)\n",
      "                                              0.0/9.2 MB ? eta -:--:--\n",
      "                                              0.0/9.2 MB ? eta -:--:--\n",
      "                                              0.0/9.2 MB 325.1 kB/s eta 0:00:29\n",
      "                                              0.0/9.2 MB 326.8 kB/s eta 0:00:29\n",
      "                                              0.1/9.2 MB 581.0 kB/s eta 0:00:16\n",
      "                                              0.2/9.2 MB 958.4 kB/s eta 0:00:10\n",
      "     -                                        0.4/9.2 MB 1.6 MB/s eta 0:00:06\n",
      "     --                                       0.6/9.2 MB 1.8 MB/s eta 0:00:05\n",
      "     ----                                     1.0/9.2 MB 3.0 MB/s eta 0:00:03\n",
      "     -------                                  1.8/9.2 MB 4.7 MB/s eta 0:00:02\n",
      "     -----------                              2.6/9.2 MB 6.1 MB/s eta 0:00:02\n",
      "     ------------------                       4.2/9.2 MB 9.0 MB/s eta 0:00:01\n",
      "     ----------------------                   5.2/9.2 MB 10.0 MB/s eta 0:00:01\n",
      "     --------------------------------         7.5/9.2 MB 13.4 MB/s eta 0:00:01\n",
      "     ----------------------------------       7.9/9.2 MB 13.7 MB/s eta 0:00:01\n",
      "     -------------------------------------    8.5/9.2 MB 13.0 MB/s eta 0:00:01\n",
      "     ---------------------------------------  9.2/9.2 MB 13.3 MB/s eta 0:00:01\n",
      "     ---------------------------------------- 9.2/9.2 MB 12.5 MB/s eta 0:00:00\n",
      "Requirement already satisfied: numpy>=1.17.3 in c:\\users\\bindu\\miniconda3\\lib\\site-packages (from scikit-learn) (1.25.2)\n",
      "Collecting scipy>=1.5.0 (from scikit-learn)\n",
      "  Downloading scipy-1.11.2-cp311-cp311-win_amd64.whl (44.0 MB)\n",
      "                                              0.0/44.0 MB ? eta -:--:--\n",
      "     -                                        1.9/44.0 MB 61.1 MB/s eta 0:00:01\n",
      "     --                                       2.6/44.0 MB 54.7 MB/s eta 0:00:01\n",
      "     --                                       2.6/44.0 MB 54.7 MB/s eta 0:00:01\n",
      "     ---                                      4.4/44.0 MB 30.9 MB/s eta 0:00:02\n",
      "     ----                                     5.2/44.0 MB 29.9 MB/s eta 0:00:02\n",
      "     ----                                     5.2/44.0 MB 29.9 MB/s eta 0:00:02\n",
      "     -------                                  7.9/44.0 MB 25.3 MB/s eta 0:00:02\n",
      "     ----------                              11.8/44.0 MB 31.2 MB/s eta 0:00:02\n",
      "     -----------                             13.3/44.0 MB 40.9 MB/s eta 0:00:01\n",
      "     ------------                            14.4/44.0 MB 34.4 MB/s eta 0:00:01\n",
      "     --------------                          16.3/44.0 MB 50.1 MB/s eta 0:00:01\n",
      "     ---------------                         18.0/44.0 MB 43.7 MB/s eta 0:00:01\n",
      "     -----------------                       19.5/44.0 MB 38.6 MB/s eta 0:00:01\n",
      "     -----------------                       19.5/44.0 MB 38.6 MB/s eta 0:00:01\n",
      "     ------------------                      21.3/44.0 MB 29.7 MB/s eta 0:00:01\n",
      "     -------------------                     22.1/44.0 MB 28.5 MB/s eta 0:00:01\n",
      "     --------------------                    23.4/44.0 MB 27.3 MB/s eta 0:00:01\n",
      "     ---------------------                   24.7/44.0 MB 28.4 MB/s eta 0:00:01\n",
      "     ----------------------                  25.8/44.0 MB 26.2 MB/s eta 0:00:01\n",
      "     ------------------------                27.1/44.0 MB 25.2 MB/s eta 0:00:01\n",
      "     -------------------------               28.5/44.0 MB 25.2 MB/s eta 0:00:01\n",
      "     --------------------------              29.7/44.0 MB 24.2 MB/s eta 0:00:01\n",
      "     ---------------------------             30.9/44.0 MB 26.2 MB/s eta 0:00:01\n",
      "     ----------------------------            32.2/44.0 MB 27.3 MB/s eta 0:00:01\n",
      "     -----------------------------           33.5/44.0 MB 28.5 MB/s eta 0:00:01\n",
      "     ------------------------------          34.5/44.0 MB 28.5 MB/s eta 0:00:01\n",
      "     --------------------------------        36.1/44.0 MB 28.5 MB/s eta 0:00:01\n",
      "     --------------------------------        37.0/44.0 MB 27.3 MB/s eta 0:00:01\n",
      "     ----------------------------------      38.4/44.0 MB 27.3 MB/s eta 0:00:01\n",
      "     -----------------------------------     39.9/44.0 MB 28.4 MB/s eta 0:00:01\n",
      "     ------------------------------------    40.7/44.0 MB 27.3 MB/s eta 0:00:01\n",
      "     -------------------------------------   42.4/44.0 MB 27.3 MB/s eta 0:00:01\n",
      "     --------------------------------------  43.4/44.0 MB 27.3 MB/s eta 0:00:01\n",
      "     --------------------------------------  44.0/44.0 MB 27.3 MB/s eta 0:00:01\n",
      "     --------------------------------------  44.0/44.0 MB 27.3 MB/s eta 0:00:01\n",
      "     --------------------------------------  44.0/44.0 MB 27.3 MB/s eta 0:00:01\n",
      "     --------------------------------------- 44.0/44.0 MB 17.7 MB/s eta 0:00:00\n",
      "Collecting joblib>=1.1.1 (from scikit-learn)\n",
      "  Downloading joblib-1.3.2-py3-none-any.whl (302 kB)\n",
      "                                              0.0/302.2 kB ? eta -:--:--\n",
      "     ---------------------------------------- 302.2/302.2 kB ? eta 0:00:00\n",
      "Collecting threadpoolctl>=2.0.0 (from scikit-learn)\n",
      "  Downloading threadpoolctl-3.2.0-py3-none-any.whl (15 kB)\n",
      "Installing collected packages: threadpoolctl, scipy, joblib, scikit-learn\n",
      "Successfully installed joblib-1.3.2 scikit-learn-1.3.0 scipy-1.11.2 threadpoolctl-3.2.0\n"
     ]
    }
   ],
   "source": [
    "pip install scikit-learn"
   ]
  },
  {
   "cell_type": "code",
   "execution_count": 5,
   "id": "16dc3c69-063a-4be6-acaf-71d70cd99a31",
   "metadata": {},
   "outputs": [],
   "source": [
    "from sklearn.metrics.pairwise import cosine_similarity\n",
    "\n",
    "def get_answer(question, chunks, embeddings):\n",
    "    # Encode the question\n",
    "    inputs = tokenizer(question, return_tensors=\"pt\", truncation=True, padding=True, max_length=512)\n",
    "    with torch.no_grad():\n",
    "        outputs = model(**inputs)\n",
    "    question_embedding = outputs.last_hidden_state.mean(dim=1).squeeze().numpy()\n",
    "\n",
    "    # Compute similarity scores\n",
    "    scores = cosine_similarity([question_embedding], embeddings)\n",
    "    most_similar_idx = np.argmax(scores)\n",
    "    \n",
    "    return chunks[most_similar_idx], scores[0][most_similar_idx]"
   ]
  },
  {
   "cell_type": "code",
   "execution_count": 8,
   "id": "4e99953d-0792-4a1c-8c09-7c40cbb5637a",
   "metadata": {},
   "outputs": [
    {
     "name": "stdin",
     "output_type": "stream",
     "text": [
      "Enter your question:  which is the hottest planet?\n"
     ]
    },
    {
     "name": "stdout",
     "output_type": "stream",
     "text": [
      "Answer: Mars,\n",
      "Score: 0.6506662368774414\n"
     ]
    }
   ],
   "source": [
    "with open(\"document.txt\", \"r\", encoding=\"utf-8\") as file:\n",
    "    document = file.read()\n",
    "\n",
    "chunks, embeddings = encode(document)\n",
    "save_embeddings(\"embeddings.npy\", embeddings)\n",
    "\n",
    "loaded_embeddings = load_embeddings(\"embeddings.npy\")\n",
    "\n",
    "question = input(\"Enter your question: \")\n",
    "answer, score = get_answer(question, chunks, loaded_embeddings)\n",
    "print(f\"Answer: {answer}\")\n",
    "print(f\"Score: {score}\")"
   ]
  },
  {
   "cell_type": "code",
   "execution_count": null,
   "id": "93f3f5ca-185b-48f5-a1c9-36c58c62952a",
   "metadata": {},
   "outputs": [],
   "source": []
  }
 ],
 "metadata": {
  "kernelspec": {
   "display_name": "Python 3 (ipykernel)",
   "language": "python",
   "name": "python3"
  },
  "language_info": {
   "codemirror_mode": {
    "name": "ipython",
    "version": 3
   },
   "file_extension": ".py",
   "mimetype": "text/x-python",
   "name": "python",
   "nbconvert_exporter": "python",
   "pygments_lexer": "ipython3",
   "version": "3.11.4"
  }
 },
 "nbformat": 4,
 "nbformat_minor": 5
}
